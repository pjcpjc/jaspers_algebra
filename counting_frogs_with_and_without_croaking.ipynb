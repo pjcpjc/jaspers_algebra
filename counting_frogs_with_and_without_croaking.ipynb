{
 "cells": [
  {
   "cell_type": "markdown",
   "metadata": {},
   "source": [
    "## The frog problem\n",
    "Here is a [video](https://www.youtube.com/watch?v=go3xtDdsNQM)"
   ]
  },
  {
   "cell_type": "code",
   "execution_count": 1,
   "metadata": {
    "collapsed": true
   },
   "outputs": [],
   "source": [
    "import random\n",
    "def makefrog():\n",
    "    if random.randint(1, 2) == 1:\n",
    "        return \"male\"\n",
    "    return \"female\""
   ]
  },
  {
   "cell_type": "markdown",
   "metadata": {},
   "source": [
    "OK, lets make 1000 frogs and verify that there are roughly 500 of each gender."
   ]
  },
  {
   "cell_type": "code",
   "execution_count": 2,
   "metadata": {
    "collapsed": false
   },
   "outputs": [
    {
     "name": "stdout",
     "output_type": "stream",
     "text": [
      "number males   : 508\n",
      "number females : 492\n"
     ]
    }
   ],
   "source": [
    "frogs = [makefrog() for _ in range(1000)]\n",
    "print \"number males   : %s\"%len([x for x in frogs if x == \"male\"])\n",
    "print \"number females : %s\"%len([x for x in frogs if x == \"female\"])"
   ]
  },
  {
   "cell_type": "markdown",
   "metadata": {},
   "source": [
    "Fair enough, we make frogs of each gender equally likely. Now lets make frog pairs conditionally."
   ]
  },
  {
   "cell_type": "code",
   "execution_count": 3,
   "metadata": {
    "collapsed": false
   },
   "outputs": [
    {
     "name": "stdout",
     "output_type": "stream",
     "text": [
      "Total number of frogpairs 10000\n",
      "Total number of frogpairs with a female 6612\n",
      "Total number of frogpairs with no females 3388\n"
     ]
    }
   ],
   "source": [
    "frogpairs = []\n",
    "while len(frogpairs) < 10000:\n",
    "    fp = [makefrog(), makefrog()]\n",
    "    if \"male\" in fp:\n",
    "        frogpairs.append(fp)\n",
    "print \"Total number of frogpairs %s\"%len(frogpairs)\n",
    "print \"Total number of frogpairs with a female %s\"%len([x for x in frogpairs if \"female\" in x])\n",
    "print \"Total number of frogpairs with no females %s\"%len([x for x in frogpairs if \"female\" not in x])"
   ]
  },
  {
   "cell_type": "markdown",
   "metadata": {},
   "source": [
    "Ok, so far so good. If you randomly generate a large number of \"at least one male\" frogpairs, then two thirds of those pairs will have a female.\n",
    "\n",
    "Ok, now lets consider croaking. I'm going to make a function that runs a croak experiment. The first argument is the inverse of the liklihood of croaking. (I.e \"a male frog croaks 1 out of 10 times\"). The second argument is just the number of \"single croak\" frogpairs to generate."
   ]
  },
  {
   "cell_type": "code",
   "execution_count": 4,
   "metadata": {
    "collapsed": false
   },
   "outputs": [],
   "source": [
    "def croak_experiment(croak_factor,    # the higher a number, the less likely a male will croak\n",
    "                                      # weirdly, this number is critical to the whole experiment!!!!\n",
    "                     totalpairs):\n",
    "    assert croak_factor > 1\n",
    "    assert totalpairs > 100\n",
    "    def try_croak(frog):\n",
    "        assert frog in [\"male\", \"female\"]\n",
    "        if frog == \"male\" and random.randint(1, croak_factor) == 1:\n",
    "            return \"croak\"\n",
    "    frogpairs = []\n",
    "    while len(frogpairs) < totalpairs:\n",
    "        fp = [makefrog(), makefrog()]\n",
    "        croaks = try_croak(fp[0]), try_croak(fp[1])\n",
    "        if len([x for x in croaks if x == \"croak\"]) == 1:\n",
    "            frogpairs.append(fp)\n",
    "    print \"Total number of frogpairs %s\"%len(frogpairs)\n",
    "    print \"Total number of frogpairs with a female %s\"%len([x for x in frogpairs if \"female\" in x])\n",
    "    print \"Total number of frogpairs with no females %s\"%len([x for x in frogpairs if \"female\" not in x])        "
   ]
  },
  {
   "cell_type": "code",
   "execution_count": 5,
   "metadata": {
    "collapsed": false
   },
   "outputs": [
    {
     "name": "stdout",
     "output_type": "stream",
     "text": [
      "Total number of frogpairs 1000000\n",
      "Total number of frogpairs with a female 667010\n",
      "Total number of frogpairs with no females 332990\n"
     ]
    }
   ],
   "source": [
    "croak_experiment(croak_factor = 2, totalpairs = 1000000)"
   ]
  },
  {
   "cell_type": "code",
   "execution_count": 6,
   "metadata": {
    "collapsed": false
   },
   "outputs": [
    {
     "name": "stdout",
     "output_type": "stream",
     "text": [
      "Total number of frogpairs 10000\n",
      "Total number of frogpairs with a female 5033\n",
      "Total number of frogpairs with no females 4967\n"
     ]
    }
   ],
   "source": [
    "croak_experiment(croak_factor = 100, totalpairs = 10000)"
   ]
  },
  {
   "cell_type": "markdown",
   "metadata": {},
   "source": [
    "So, if croaking is rare (say 1 out of 100 males will croak) then the liklihood of a female appearing in a \"single croak\" frogpair is close to 50/50. But if males croak frequently (say, a male croaks half the time) then the liklihood of a female appearing in a \"single croak\" frogpair is closer to 66/33."
   ]
  }
 ],
 "metadata": {
  "kernelspec": {
   "display_name": "Python 2",
   "language": "python",
   "name": "python2"
  },
  "language_info": {
   "codemirror_mode": {
    "name": "ipython",
    "version": 2
   },
   "file_extension": ".py",
   "mimetype": "text/x-python",
   "name": "python",
   "nbconvert_exporter": "python",
   "pygments_lexer": "ipython2",
   "version": "2.7.11"
  }
 },
 "nbformat": 4,
 "nbformat_minor": 0
}
